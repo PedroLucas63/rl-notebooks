{
  "cells": [
    {
      "cell_type": "markdown",
      "id": "92875a06",
      "metadata": {
        "id": "92875a06"
      },
      "source": [
        "# Preparação do Ambiente"
      ]
    },
    {
      "cell_type": "code",
      "execution_count": 1,
      "id": "344a98f4",
      "metadata": {
        "id": "344a98f4"
      },
      "outputs": [],
      "source": [
        "import numpy as np\n",
        "import torch\n",
        "import torch.nn as nn\n",
        "import torch.optim as optim\n",
        "from tqdm import tqdm\n",
        "import matplotlib.pyplot as plt\n",
        "import gymnasium as gym\n",
        "from gymnasium.wrappers import AtariPreprocessing, FrameStackObservation\n",
        "import ale_py\n",
        "\n",
        "gym.register_envs(ale_py)"
      ]
    },
    {
      "cell_type": "code",
      "execution_count": 2,
      "id": "d9d760ac",
      "metadata": {
        "id": "d9d760ac"
      },
      "outputs": [],
      "source": [
        "def moving_average(rewards, window_size=10):\n",
        "    n = len(rewards)\n",
        "    grouped_means = [np.mean(rewards[i:i+window_size]) for i in range(0, n, window_size)]\n",
        "    grouped_indices = [i for i in range(0, n, window_size)]\n",
        "    return grouped_indices, grouped_means"
      ]
    },
    {
      "cell_type": "code",
      "execution_count": 3,
      "id": "20bfe5a1",
      "metadata": {
        "id": "20bfe5a1"
      },
      "outputs": [],
      "source": [
        "def plot_rewards(train_rewards, test_rewards=None, title=None, max_reward=None, window_size=10):\n",
        "    if test_rewards is not None:\n",
        "        fig, axes = plt.subplots(1, 2, figsize=(15, 5))\n",
        "    else:\n",
        "        fig, axes = plt.subplots(1, 1, figsize=(10, 5))\n",
        "        axes = [axes]\n",
        "\n",
        "    # TRAINING\n",
        "    axes[0].plot(train_rewards, label='Reward (puro)', color='skyblue', alpha=0.6)\n",
        "    train_x, train_avg = moving_average(train_rewards, window_size)\n",
        "    axes[0].plot(train_x, train_avg, label=f'Média a cada {window_size}', color='orange')\n",
        "    axes[0].set_title(\"Training\")\n",
        "    axes[0].set_xlabel(\"Episodes\")\n",
        "    axes[0].set_ylabel(\"Reward\")\n",
        "\n",
        "    if max_reward is not None:\n",
        "        axes[0].axhline(max_reward, color='red', linestyle='--', label='Max Reward')\n",
        "\n",
        "    axes[0].legend()\n",
        "\n",
        "    # TESTING\n",
        "    if test_rewards is not None:\n",
        "        axes[1].plot(test_rewards, label='Reward (puro)', color='skyblue', alpha=0.6)\n",
        "        test_x, test_avg = moving_average(test_rewards, window_size)\n",
        "        axes[1].plot(test_x, test_avg, label=f'Média a cada {window_size}', color='orange')\n",
        "        axes[1].set_title(\"Testing\")\n",
        "        axes[1].set_xlabel(\"Episodes\")\n",
        "        axes[1].set_ylabel(\"Reward\")\n",
        "\n",
        "        if max_reward is not None:\n",
        "            axes[1].axhline(max_reward, color='red', linestyle='--', label='Max Reward')\n",
        "\n",
        "        axes[1].legend()\n",
        "\n",
        "    if title:\n",
        "        fig.suptitle(title)\n",
        "\n",
        "    plt.tight_layout()\n",
        "    plt.show()"
      ]
    },
    {
      "cell_type": "markdown",
      "id": "20529315",
      "metadata": {
        "id": "20529315"
      },
      "source": [
        "# Prioritized Experience Replay (PER)"
      ]
    },
    {
      "cell_type": "code",
      "execution_count": 4,
      "id": "bac7aee1",
      "metadata": {
        "id": "bac7aee1"
      },
      "outputs": [],
      "source": [
        "class PrioritizedReplayBuffer:\n",
        "   def __init__(self,\n",
        "                capacity: int,\n",
        "                observation_dim: tuple,\n",
        "                alpha: float = 0.6):\n",
        "      assert alpha >= 0\n",
        "      self._alpha = alpha\n",
        "\n",
        "      self._capacity = capacity\n",
        "      self._size = 0\n",
        "      self._index = 0\n",
        "\n",
        "      self._memory = {\n",
        "         \"states\": np.zeros((capacity, *observation_dim), dtype=np.uint8),\n",
        "         \"actions\": np.zeros((capacity,), dtype=np.int32),\n",
        "         \"rewards\": np.zeros((capacity,), dtype=np.float32),\n",
        "         \"next_states\": np.zeros((capacity, *observation_dim), dtype=np.uint8),\n",
        "         \"dones\": np.zeros((capacity,), dtype=np.int32),\n",
        "         \"priorities\": np.zeros((capacity,), dtype=np.float32)\n",
        "      }\n",
        "      self._max_priority = 1.0\n",
        "\n",
        "   def __len__(self):\n",
        "      return self._size\n",
        "\n",
        "   def _increment_index(self):\n",
        "      self._index = (self._index + 1) % self._capacity\n",
        "      self._size = min(self._size + 1, self._capacity)\n",
        "\n",
        "   def store(self,\n",
        "             state: np.ndarray,\n",
        "             action: int,\n",
        "             reward: float,\n",
        "             next_state: np.ndarray,\n",
        "             done: bool):\n",
        "      self._memory['states'][self._index] = state\n",
        "      self._memory['actions'][self._index] = action\n",
        "      self._memory['rewards'][self._index] = reward\n",
        "      self._memory['next_states'][self._index] = next_state\n",
        "      self._memory['dones'][self._index] = np.int32(done)\n",
        "      self._memory['priorities'][self._index] = self._max_priority ** self._alpha\n",
        "\n",
        "      self._increment_index()\n",
        "\n",
        "   def update_priorities(self, indices: list[int], errors: np.ndarray):\n",
        "      assert len(indices) == len(errors)\n",
        "\n",
        "      for idx, error in zip(indices, errors):\n",
        "         priority = float((abs(error) + 1e-6) ** self._alpha)\n",
        "         self._memory['priorities'][idx] = priority\n",
        "\n",
        "         self._max_priority = max(self._max_priority, priority)\n",
        "\n",
        "   def sample(self, batch_size: int, beta: float = 0.4):\n",
        "      assert len(self) >= batch_size\n",
        "\n",
        "      priorities = self._memory['priorities'][:self._size]\n",
        "      if priorities.sum() == 0:\n",
        "         priorities += 1e-6\n",
        "\n",
        "      probs = priorities\n",
        "      probs /= probs.sum()\n",
        "\n",
        "      indices = np.random.choice(self._size, batch_size, p=probs)\n",
        "      weights = (self._size * probs[indices]) ** (-beta)\n",
        "      weights = weights / weights.max()\n",
        "\n",
        "      return (\n",
        "         self._memory['states'][indices].astype(np.float32)/255,\n",
        "         self._memory['actions'][indices],\n",
        "         self._memory['rewards'][indices],\n",
        "         self._memory['next_states'][indices].astype(np.float32)/255,\n",
        "         self._memory['dones'][indices],\n",
        "         weights.astype(np.float32),\n",
        "         indices\n",
        "      )"
      ]
    },
    {
      "cell_type": "markdown",
      "id": "dbc4ceb8",
      "metadata": {
        "id": "dbc4ceb8"
      },
      "source": [
        "# Definição da Rede"
      ]
    },
    {
      "cell_type": "code",
      "execution_count": null,
      "id": "oqNJibSM3hSD",
      "metadata": {
        "id": "oqNJibSM3hSD"
      },
      "outputs": [],
      "source": [
        "class AtariDQN(nn.Module):\n",
        "  def __init__(self, action_shape):\n",
        "    super(AtariDQN, self).__init__()\n",
        "    self.conv = nn.Sequential(\n",
        "        nn.Conv2d(4, 32, kernel_size=8, stride=4),\n",
        "        nn.ReLU(),\n",
        "        nn.Conv2d(32, 64, kernel_size=4, stride=2),\n",
        "        nn.ReLU(),\n",
        "        nn.Conv2d(64, 64, kernel_size=3, stride=1),\n",
        "        nn.ReLU(),\n",
        "    )\n",
        "    self.fc = nn.Sequential(\n",
        "        nn.Linear(64 * 7 * 7, 512),\n",
        "        nn.ReLU(),\n",
        "        nn.Linear(512, action_shape)\n",
        "    )\n",
        "\n",
        "  def forward(self, x):\n",
        "    x = self.conv(x)\n",
        "    x = x.view(x.size(0), -1)    \n",
        "    x = self.fc(x)\n",
        "    return x"
      ]
    },
    {
      "cell_type": "markdown",
      "id": "57048310",
      "metadata": {
        "id": "57048310"
      },
      "source": [
        "# Definição do Agente"
      ]
    },
    {
      "cell_type": "code",
      "execution_count": 6,
      "id": "Mtv8EpjF4DpD",
      "metadata": {
        "id": "Mtv8EpjF4DpD"
      },
      "outputs": [],
      "source": [
        "class PrioritizedAtariDQNAgent():\n",
        "   def __init__(self, env,\n",
        "                epsilon=1,\n",
        "                alpha=1e-3,\n",
        "                gamma=0.999,\n",
        "                epsilon_decay=0.998,\n",
        "                epsilon_min=0.01,\n",
        "                batch_size=64,\n",
        "                replay_buffer_size=100000,\n",
        "                beta=0.4,\n",
        "                beta_decay=1e-5):\n",
        "      self.epsilon = epsilon\n",
        "      self.alpha = alpha\n",
        "      self.gamma = gamma\n",
        "      self.epsilon_decay = epsilon_decay\n",
        "      self.epsilon_min = epsilon_min\n",
        "      self.batch_size = batch_size\n",
        "      self.beta = beta\n",
        "      self.beta_decay = beta_decay\n",
        "\n",
        "      self.device = torch.device(\"cuda\" if torch.cuda.is_available() else \"cpu\")\n",
        "      self.env = env\n",
        "\n",
        "      self.dqn = AtariDQN(env.action_space.n).to(self.device)\n",
        "      self.dqn_target = AtariDQN(env.action_space.n).to(self.device)\n",
        "\n",
        "      self.dqn_target.load_state_dict(self.dqn.state_dict())\n",
        "      self.dqn_target.eval()\n",
        "\n",
        "      self.replay = PrioritizedReplayBuffer(replay_buffer_size, env.observation_space.shape)\n",
        "\n",
        "      self.optimizer = optim.Adam(self.dqn.parameters(), lr=alpha)\n",
        "      self.loss = nn.SmoothL1Loss(reduction='none')\n",
        "\n",
        "   def _update_dqn_target(self):\n",
        "      self.dqn_target.load_state_dict(self.dqn.state_dict())\n",
        "\n",
        "   def act(self, state):\n",
        "      self.dqn.eval()\n",
        "\n",
        "      if np.random.rand() < self.epsilon:\n",
        "         return self.env.action_space.sample()\n",
        "\n",
        "      with torch.no_grad():\n",
        "         state = torch.tensor(state, dtype=torch.float32).to(self.device)\n",
        "         if state.ndim == 3:\n",
        "            state = state.unsqueeze(0)\n",
        "         action = self.dqn(state).argmax(dim=-1).item()\n",
        "\n",
        "      return action\n",
        "\n",
        "   def update(self):\n",
        "      self.dqn.train()\n",
        "\n",
        "      states, actions, rewards, next_states, dones, weights, indices = self.replay.sample(self.batch_size, self.beta)\n",
        "\n",
        "      states = torch.as_tensor(states, dtype=torch.float32, device=self.device)\n",
        "      actions = torch.as_tensor(actions, dtype=torch.int64, device=self.device).unsqueeze(-1)\n",
        "      rewards = torch.as_tensor(rewards, dtype=torch.float32, device=self.device).unsqueeze(-1)\n",
        "      next_states = torch.as_tensor(next_states, dtype=torch.float32, device=self.device)\n",
        "      dones = torch.as_tensor(dones, dtype=torch.float32, device=self.device).unsqueeze(-1)\n",
        "      weights = torch.as_tensor(weights, dtype=torch.float32, device=self.device).unsqueeze(-1)\n",
        "\n",
        "      q_eval = self.dqn(states).gather(-1, actions.long())\n",
        "\n",
        "      with torch.no_grad():\n",
        "         next_actions = self.dqn(next_states).argmax(dim=1, keepdim=True)\n",
        "         q_next = self.dqn_target(next_states).gather(1, next_actions)\n",
        "         q_target = rewards + self.gamma * q_next * (1 - dones)\n",
        "\n",
        "      losses = self.loss(q_eval, q_target)\n",
        "      loss = torch.mean(losses * weights)\n",
        "\n",
        "      self.optimizer.zero_grad()\n",
        "      loss.backward()\n",
        "      self.optimizer.step()\n",
        "\n",
        "      td_errors = (q_target - q_eval).detach().cpu().numpy().squeeze()\n",
        "      self.replay.update_priorities(indices, td_errors)\n",
        "\n",
        "      self.beta = min(1, self.beta + self.beta_decay)\n",
        "\n",
        "   def train(self, episodes, verbose=False):\n",
        "      progress = tqdm(range(1, episodes + 1), desc=\"Training\", disable=not verbose)\n",
        "      rewards = []\n",
        "\n",
        "      for episode in progress:\n",
        "         state, _ = self.env.reset()\n",
        "         episode_reward = 0\n",
        "         done = False\n",
        "\n",
        "         while not done:\n",
        "            action = self.act(state)\n",
        "            next_state, reward, terminated, truncated, _ = self.env.step(action)\n",
        "            done = terminated or truncated\n",
        "            self.replay.store(state, action, reward, next_state, done)\n",
        "            state = next_state\n",
        "            episode_reward += reward\n",
        "\n",
        "            if len(self.replay) > self.batch_size:\n",
        "               self.update()\n",
        "\n",
        "         if episode % 50 == 0:\n",
        "            self._update_dqn_target()\n",
        "\n",
        "         self.epsilon = max(self.epsilon * self.epsilon_decay, self.epsilon_min)\n",
        "\n",
        "         rewards.append(episode_reward)\n",
        "         progress.set_postfix({ \"Reward\": episode_reward, \"Epsilon\": self.epsilon })\n",
        "\n",
        "      return rewards\n",
        "\n",
        "   def evaluate(self, episodes, verbose=False):\n",
        "      progress = tqdm(range(1, episodes + 1), desc=\"Evaluating\", disable=not verbose)\n",
        "      rewards = []\n",
        "\n",
        "      epsilon_real = self.epsilon\n",
        "      self.epsilon = 0\n",
        "\n",
        "      self.dqn.eval()\n",
        "\n",
        "      for episode in progress:\n",
        "         state, _ = self.env.reset()\n",
        "         episode_reward = 0\n",
        "         done = False\n",
        "\n",
        "         while not done:\n",
        "            action = self.act(state)\n",
        "            next_state, reward, terminated, truncated, _ = self.env.step(action)\n",
        "            done = terminated or truncated\n",
        "            state = next_state\n",
        "            episode_reward += reward\n",
        "\n",
        "         rewards.append(episode_reward)\n",
        "         progress.set_postfix({ \"Reward\": episode_reward })\n",
        "\n",
        "      self.epsilon = epsilon_real\n",
        "\n",
        "      return rewards\n",
        "\n",
        "   def save(self, path):\n",
        "      torch.save(self.dqn.state_dict(), path)\n",
        "\n",
        "   def load(self, path):\n",
        "      self.dqn.load_state_dict(torch.load(path))"
      ]
    },
    {
      "cell_type": "markdown",
      "id": "93b873c4",
      "metadata": {
        "id": "93b873c4"
      },
      "source": [
        "# Ambientes"
      ]
    },
    {
      "cell_type": "code",
      "execution_count": 7,
      "id": "tIKkAkKz3JzB",
      "metadata": {
        "id": "tIKkAkKz3JzB"
      },
      "outputs": [],
      "source": [
        "envs = [\n",
        "    (\"ALE/Pong-v5\",           \"Pong\",           \"pong_per.pt\"         ),\n",
        "    (\"ALE/Breakout-v5\",       \"Breakout\",       \"breakout_per.pt\"     ),\n",
        "    (\"ALE/SpaceInvaders-v5\",  \"SpaceInvaders\",  \"spaceinvaders_per.pt\"),\n",
        "    (\"ALE/Qbert-v5\",          \"Q*Bert\",         \"qbert_per.pt\"        ),\n",
        "]"
      ]
    },
    {
      "cell_type": "code",
      "execution_count": 8,
      "id": "lekLicR64PRC",
      "metadata": {
        "colab": {
          "base_uri": "https://localhost:8080/",
          "height": 373
        },
        "id": "lekLicR64PRC",
        "outputId": "6d2a35f9-dbd7-4720-aa31-fcc7956eb0ac"
      },
      "outputs": [
        {
          "name": "stdout",
          "output_type": "stream",
          "text": [
            "Training Pong...\n"
          ]
        },
        {
          "name": "stderr",
          "output_type": "stream",
          "text": [
            "Training:   1%|          | 10/1000 [05:53<9:43:50, 35.38s/it, Reward=-20, Epsilon=0.98]\n"
          ]
        },
        {
          "ename": "KeyboardInterrupt",
          "evalue": "",
          "output_type": "error",
          "traceback": [
            "\u001b[31m---------------------------------------------------------------------------\u001b[39m",
            "\u001b[31mKeyboardInterrupt\u001b[39m                         Traceback (most recent call last)",
            "\u001b[36mCell\u001b[39m\u001b[36m \u001b[39m\u001b[32mIn[8]\u001b[39m\u001b[32m, line 10\u001b[39m\n\u001b[32m      6\u001b[39m env = FrameStackObservation(env, \u001b[32m4\u001b[39m)\n\u001b[32m      8\u001b[39m agent = PrioritizedAtariDQNAgent(env, beta_decay=(\u001b[32m1\u001b[39m - \u001b[32m0.4\u001b[39m) / \u001b[32m1000\u001b[39m)\n\u001b[32m---> \u001b[39m\u001b[32m10\u001b[39m train_rewards = \u001b[43magent\u001b[49m\u001b[43m.\u001b[49m\u001b[43mtrain\u001b[49m\u001b[43m(\u001b[49m\u001b[32;43m1000\u001b[39;49m\u001b[43m,\u001b[49m\u001b[43m \u001b[49m\u001b[43mverbose\u001b[49m\u001b[43m=\u001b[49m\u001b[38;5;28;43;01mTrue\u001b[39;49;00m\u001b[43m)\u001b[49m\n\u001b[32m     11\u001b[39m test_rewards = agent.evaluate(\u001b[32m100\u001b[39m, verbose=\u001b[38;5;28;01mTrue\u001b[39;00m)\n\u001b[32m     13\u001b[39m agent.save(\u001b[33mf\u001b[39m\u001b[33m'\u001b[39m\u001b[33mcheckpoint_atari/\u001b[39m\u001b[38;5;132;01m{\u001b[39;00mpath\u001b[38;5;132;01m}\u001b[39;00m\u001b[33m'\u001b[39m)\n",
            "\u001b[36mCell\u001b[39m\u001b[36m \u001b[39m\u001b[32mIn[6]\u001b[39m\u001b[32m, line 92\u001b[39m, in \u001b[36mPrioritizedAtariDQNAgent.train\u001b[39m\u001b[34m(self, episodes, verbose)\u001b[39m\n\u001b[32m     89\u001b[39m episode_reward = \u001b[32m0\u001b[39m\n\u001b[32m     90\u001b[39m done = \u001b[38;5;28;01mFalse\u001b[39;00m\n\u001b[32m---> \u001b[39m\u001b[32m92\u001b[39m \u001b[38;5;28;01mwhile\u001b[39;00m \u001b[38;5;129;01mnot\u001b[39;00m done:\n\u001b[32m     93\u001b[39m    action = \u001b[38;5;28mself\u001b[39m.act(state)\n\u001b[32m     94\u001b[39m    next_state, reward, terminated, truncated, _ = \u001b[38;5;28mself\u001b[39m.env.step(action)\n",
            "\u001b[31mKeyboardInterrupt\u001b[39m: "
          ]
        }
      ],
      "source": [
        "for env_name, env_title, path in envs:\n",
        "   print(f\"Training {env_title}...\")\n",
        "\n",
        "   env = gym.make(env_name, render_mode=\"rgb_array\", frameskip=1)\n",
        "   env = AtariPreprocessing(env, frame_skip=4, screen_size=84, grayscale_obs=True)\n",
        "   env = FrameStackObservation(env, 4)\n",
        "\n",
        "   agent = PrioritizedAtariDQNAgent(env, beta_decay=(1 - 0.4) / 1000)\n",
        "\n",
        "   train_rewards = agent.train(1000, verbose=True)\n",
        "   test_rewards = agent.evaluate(100, verbose=True)\n",
        "\n",
        "   agent.save(f'checkpoint_atari/{path}')\n",
        "\n",
        "   plot_rewards(train_rewards, test_rewards, f\"{env_title} - Prioritized DQN\")\n",
        "\n",
        "   print(\"Done!\\n\")"
      ]
    }
  ],
  "metadata": {
    "accelerator": "GPU",
    "colab": {
      "gpuType": "T4",
      "provenance": []
    },
    "kernelspec": {
      "display_name": ".venv",
      "language": "python",
      "name": "python3"
    },
    "language_info": {
      "codemirror_mode": {
        "name": "ipython",
        "version": 3
      },
      "file_extension": ".py",
      "mimetype": "text/x-python",
      "name": "python",
      "nbconvert_exporter": "python",
      "pygments_lexer": "ipython3",
      "version": "3.11.9"
    }
  },
  "nbformat": 4,
  "nbformat_minor": 5
}
